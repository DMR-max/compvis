{
 "cells": [
  {
   "cell_type": "code",
   "execution_count": 1,
   "metadata": {
    "_cell_guid": "b1076dfc-b9ad-4769-8c92-a6c4dae69d19",
    "_uuid": "8f2839f25d086af736a60e9eeb907d3b93b6e0e5",
    "execution": {
     "iopub.execute_input": "2025-04-01T16:07:03.175328Z",
     "iopub.status.busy": "2025-04-01T16:07:03.175102Z",
     "iopub.status.idle": "2025-04-01T16:07:04.119459Z",
     "shell.execute_reply": "2025-04-01T16:07:04.118528Z",
     "shell.execute_reply.started": "2025-04-01T16:07:03.175306Z"
    },
    "trusted": true
   },
   "outputs": [],
   "source": [
    "# This Python 3 environment comes with many helpful analytics libraries installed\n",
    "# It is defined by the kaggle/python Docker image: https://github.com/kaggle/docker-python\n",
    "# For example, here's several helpful packages to load\n",
    "\n",
    "import numpy as np # linear algebra\n",
    "import pandas as pd # data processing, CSV file I/O (e.g. pd.read_csv)\n",
    "\n",
    "# Input data files are available in the read-only \"../input/\" directory\n",
    "# For example, running this (by clicking run or pressing Shift+Enter) will list all files under the input directory\n",
    "\n",
    "import os\n",
    "\n",
    "# You can write up to 20GB to the current directory (/kaggle/working/) that gets preserved as output when you create a version using \"Save & Run All\" \n",
    "# You can also write temporary files to /kaggle/temp/, but they won't be saved outside of the current session"
   ]
  },
  {
   "cell_type": "code",
   "execution_count": 15,
   "metadata": {
    "execution": {
     "iopub.execute_input": "2025-04-01T16:07:04.121029Z",
     "iopub.status.busy": "2025-04-01T16:07:04.120483Z",
     "iopub.status.idle": "2025-04-01T16:07:08.606079Z",
     "shell.execute_reply": "2025-04-01T16:07:08.605205Z",
     "shell.execute_reply.started": "2025-04-01T16:07:04.120989Z"
    },
    "trusted": true
   },
   "outputs": [
    {
     "name": "stdout",
     "output_type": "stream",
     "text": [
      "Using device: cuda\n"
     ]
    }
   ],
   "source": [
    "import os\n",
    "import pickle\n",
    "import torch\n",
    "import torch.nn as nn\n",
    "import torch.optim as optim\n",
    "from torch.utils.data import Dataset, DataLoader, random_split\n",
    "from torchvision import transforms, models\n",
    "from PIL import Image\n",
    "import numpy as np\n",
    "from tqdm import tqdm\n",
    "\n",
    "###############################################################################\n",
    "# 1. CONFIGURATION\n",
    "###############################################################################\n",
    "DATA_PKL     = \"/kaggle/input/image-angle-pred-uhh-temp-yay-maybe/AngleOfPerson_20250331_042254.pkl\"  # <-- Replace with your path\n",
    "DEVICE       = torch.device(\"cuda\" if torch.cuda.is_available() else \"cpu\")\n",
    "BATCH_SIZE   = 100\n",
    "EPOCHS       = 20\n",
    "LEARNING_RATE = 0.004\n",
    "TRAIN_SPLIT  = 0.8\n",
    "# Basic image transforms\n",
    "IMAGE_TRANSFORM = transforms.Compose([\n",
    "    transforms.Resize((224, 224)), \n",
    "    transforms.ToTensor(),\n",
    "    # If using a pretrained ResNet, you typically want normalization:\n",
    "    # transforms.Normalize([0.485, 0.456, 0.406], [0.229, 0.224, 0.225])\n",
    "])\n",
    "\n",
    "print(f\"Using device: {DEVICE}\")"
   ]
  },
  {
   "cell_type": "code",
   "execution_count": 16,
   "metadata": {
    "execution": {
     "iopub.execute_input": "2025-04-01T16:07:08.607666Z",
     "iopub.status.busy": "2025-04-01T16:07:08.607151Z",
     "iopub.status.idle": "2025-04-01T16:07:08.614017Z",
     "shell.execute_reply": "2025-04-01T16:07:08.613143Z",
     "shell.execute_reply.started": "2025-04-01T16:07:08.607626Z"
    },
    "trusted": true
   },
   "outputs": [],
   "source": [
    "\n",
    "###############################################################################\n",
    "# 2. DATASET\n",
    "###############################################################################\n",
    "class ImageAngleDataset(Dataset):\n",
    "    \"\"\"\n",
    "    Dataset that returns:\n",
    "      - image tensor\n",
    "      - angle (float) as a label\n",
    "    \"\"\"\n",
    "    def __init__(self, data_list, transform=None):\n",
    "        \"\"\"\n",
    "        data_list: List of (image_path, angle)\n",
    "        transform: TorchVision transforms for images\n",
    "        \"\"\"\n",
    "        self.data_list = []\n",
    "        self.transform = transform\n",
    "        print(\"Creating dataset!\")\n",
    "        for item_a, item_b in tqdm(data_list):\n",
    "            modified_item_a = Image.fromarray(item_a)\n",
    "            if self.transform:\n",
    "                modified_item_a = self.transform(modified_item_a)#.to(DEVICE)\n",
    "            \n",
    "            modified_item_b = torch.tensor(item_b, dtype=torch.float32).unsqueeze(0)#.to(DEVICE)\n",
    "            self.data_list.append((modified_item_a, modified_item_b))\n",
    "\n",
    "    def __len__(self):\n",
    "        return len(self.data_list)\n",
    "\n",
    "    def __getitem__(self, idx):\n",
    "        return self.data_list[idx]\n",
    "        # Load image\n",
    "        image = Image.fromarray(image_path)\n",
    "        # image = torch.from_numpy(np.transpose(image, (2,0,1))).float()\n",
    "        if self.transform:\n",
    "            image = self.transform(image)\n",
    "        # Convert angle to float tensor [1,]\n",
    "        angle_tensor = torch.tensor(angle, dtype=torch.float32).unsqueeze(0)\n",
    "        return image, angle_tensor"
   ]
  },
  {
   "cell_type": "code",
   "execution_count": 17,
   "metadata": {
    "execution": {
     "iopub.execute_input": "2025-04-01T16:07:08.615314Z",
     "iopub.status.busy": "2025-04-01T16:07:08.615016Z",
     "iopub.status.idle": "2025-04-01T16:07:08.633080Z",
     "shell.execute_reply": "2025-04-01T16:07:08.632089Z",
     "shell.execute_reply.started": "2025-04-01T16:07:08.615291Z"
    },
    "trusted": true
   },
   "outputs": [],
   "source": [
    "###############################################################################\n",
    "# 3. MODEL: Simple ResNet-based regressor\n",
    "###############################################################################\n",
    "class ImageRegressor(nn.Module):\n",
    "    def __init__(self, pretrained=True):\n",
    "        \"\"\"\n",
    "        If pretrained=True, uses pretrained ImageNet weights.\n",
    "        If pretrained=False, initializes from scratch.\n",
    "        \"\"\"\n",
    "        super().__init__()\n",
    "        # Use a ResNet18 as the backbone\n",
    "        if pretrained:\n",
    "            backbone = models.resnet18(weights=models.ResNet18_Weights.DEFAULT)\n",
    "        else:\n",
    "            backbone = models.resnet18(weights=None)\n",
    "\n",
    "        # Remove the final classification layer\n",
    "        num_feats = backbone.fc.in_features\n",
    "        backbone.fc = nn.Identity()\n",
    "\n",
    "        self.backbone = backbone\n",
    "        # Final linear to produce 1 output (angle)\n",
    "        #       But with an extra layer in between to smoothen the process\n",
    "        self.fc_before = nn.Linear(num_feats, 32)\n",
    "        self.fc = nn.Linear(32, 1)\n",
    "        # self.handle_angle = torch.nn.Hardtanh()\n",
    "\n",
    "    def forward(self, x):\n",
    "        # x: [batch_size, 3, H, W]\n",
    "        features = self.backbone(x)   # [batch_size, 512] for ResNet18\n",
    "        before_out = self.fc_before(features)\n",
    "        out = self.fc(before_out)       # [batch_size, 1]\n",
    "        # https://discuss.pytorch.org/t/custom-loss-function-for-discontinuous-angle-calculation/58579/5\n",
    "        # out_wrapped = torch.nn.Hardtanh()\n",
    "        return out"
   ]
  },
  {
   "cell_type": "code",
   "execution_count": 18,
   "metadata": {
    "execution": {
     "iopub.execute_input": "2025-04-01T16:07:08.635118Z",
     "iopub.status.busy": "2025-04-01T16:07:08.634862Z",
     "iopub.status.idle": "2025-04-01T16:07:08.649598Z",
     "shell.execute_reply": "2025-04-01T16:07:08.648946Z",
     "shell.execute_reply.started": "2025-04-01T16:07:08.635098Z"
    },
    "trusted": true
   },
   "outputs": [],
   "source": [
    "###############################################################################\n",
    "# 4. TRAINING & TESTING\n",
    "###############################################################################\n",
    "def circular_error(pred, actual):\n",
    "    \"\"\"\n",
    "    Computes the circular error (in degrees) between predicted and actual angles.\n",
    "    The error is defined as the minimum of the absolute difference and 360 minus that difference.\n",
    "    \"\"\"\n",
    "    diff = abs(pred - actual)\n",
    "    return diff if diff <= 180 else 360 - diff\n",
    "\n",
    "def train_model(model, train_loader, epochs=10, lr=1e-3):\n",
    "    model.to(DEVICE)\n",
    "    criterion = nn.MSELoss().to(DEVICE)\n",
    "    optimizer = optim.Adam(model.parameters(), lr=lr)\n",
    "    \n",
    "\n",
    "    for epoch in range(epochs):\n",
    "        checkpoint_path = f\"checkpoint_angle_pred_images_TBD_epoch_{epoch+1}.pth\"\n",
    "        model.train()\n",
    "        total_loss = 0.0\n",
    "\n",
    "        for images, angles in tqdm(train_loader):\n",
    "            images = images.to(DEVICE)\n",
    "            angles = angles.to(DEVICE)\n",
    "\n",
    "            optimizer.zero_grad()\n",
    "            preds = model(images)\n",
    "            loss = criterion(preds, angles)\n",
    "            loss.backward()\n",
    "            optimizer.step()\n",
    "            total_loss += loss.item()\n",
    "\n",
    "        avg_loss = total_loss / len(train_loader)\n",
    "        print(f\"Epoch [{epoch+1}/{epochs}]  Train Loss: {avg_loss:.4f}\")\n",
    "        if (epoch+1) % 5 == 0:\n",
    "            torch.save({\n",
    "                    'epoch': epoch+1,\n",
    "                    'model_state_dict': model.state_dict(),\n",
    "                    'loss': avg_loss,\n",
    "                }, checkpoint_path)\n",
    "\n",
    "def test_model(model, test_loader):\n",
    "    model.to(DEVICE)\n",
    "    model.eval()\n",
    "    criterion = nn.MSELoss()\n",
    "    total_loss = 0.0\n",
    "\n",
    "    # Optional: store predictions for further analysis\n",
    "    all_preds = []\n",
    "    all_labels = []\n",
    "    total_circular_error = 0.0\n",
    "    count = 0\n",
    "\n",
    "    with torch.no_grad():\n",
    "        for images, angles in tqdm(test_loader):\n",
    "            images = images.to(DEVICE)\n",
    "            angles = angles.to(DEVICE)\n",
    "\n",
    "            preds = model(images)\n",
    "            loss = criterion(preds, angles)\n",
    "            total_loss += loss.item()\n",
    "\n",
    "            preds_list = preds.cpu().view(-1).tolist()\n",
    "            angles_list = angles.cpu().view(-1).tolist()\n",
    "            all_preds.extend(preds_list)\n",
    "            all_labels.extend(angles_list)\n",
    "\n",
    "            for p, a in zip(preds_list, angles_list):\n",
    "                err = circular_error(p, a)\n",
    "                total_circular_error += err\n",
    "                count += 1\n",
    "\n",
    "    avg_loss = total_loss / len(test_loader)\n",
    "    avg_circular_error = total_circular_error / count if count > 0 else 0.0\n",
    "\n",
    "    print(f\"Test Loss: {avg_loss:.4f}\")\n",
    "    print(\"Sample Predictions vs Actual with Circular Error:\")\n",
    "    # for i in range(len(all_preds)):\n",
    "    #     err = circular_error(all_preds[i], all_labels[i])\n",
    "    #     print(f\"  Pred: {all_preds[i]:.2f}, Actual: {all_labels[i]:.2f}, Circular Error: {err:.2f}\")\n",
    "    print(f\"Average Circular Error: {avg_circular_error:.2f}\")\n",
    "    return all_preds, all_labels"
   ]
  },
  {
   "cell_type": "code",
   "execution_count": null,
   "metadata": {
    "execution": {
     "execution_failed": "2025-04-01T16:11:17.371Z",
     "iopub.execute_input": "2025-04-01T16:07:08.650739Z",
     "iopub.status.busy": "2025-04-01T16:07:08.650525Z"
    },
    "trusted": true
   },
   "outputs": [
    {
     "name": "stdout",
     "output_type": "stream",
     "text": [
      "Loaded 35442 samples from AngleOfPerson_20250331_042254.pkl\n",
      "Creating dataset!\n"
     ]
    },
    {
     "name": "stderr",
     "output_type": "stream",
     "text": [
      " 10%|▉         | 3459/35442 [00:21<04:10, 127.44it/s]"
     ]
    }
   ],
   "source": [
    "# 1) Load data_list from .pkl\n",
    "DATA_PKL = \"AngleOfPerson_20250331_042254.pkl\"\n",
    "with open(DATA_PKL, \"rb\") as f:\n",
    "    data_list = pickle.load(f)\n",
    "print(f\"Loaded {len(data_list)} samples from {DATA_PKL}\")\n",
    "\n",
    "# 2) Create dataset\n",
    "dataset = ImageAngleDataset(data_list, transform=IMAGE_TRANSFORM)\n",
    "\n",
    "# 3) Split into train/test\n",
    "train_size = int(TRAIN_SPLIT * len(dataset))\n",
    "test_size = len(dataset) - train_size\n",
    "train_dataset, test_dataset = random_split(dataset, [train_size, test_size])\n",
    "\n",
    "train_loader = DataLoader(train_dataset, batch_size=BATCH_SIZE, shuffle=True)\n",
    "test_loader  = DataLoader(test_dataset,  batch_size=BATCH_SIZE, shuffle=False)\n",
    "\n",
    "# 4) Initialize model\n",
    "model = ImageRegressor(pretrained=True)\n",
    "print(model)\n",
    "\n",
    "# # 5) Train\n",
    "# print(\"Starting Training ...\")\n",
    "# train_model(model, train_loader, epochs=EPOCHS, lr=LEARNING_RATE)\n",
    "\n",
    "# # 6) Test\n",
    "# print(\"Starting Testing ...\")\n",
    "# test_model(model, test_loader)\n",
    "\n",
    "# print(\"Done!\")"
   ]
  },
  {
   "cell_type": "code",
   "execution_count": null,
   "metadata": {
    "execution": {
     "execution_failed": "2025-04-01T16:11:17.371Z"
    },
    "trusted": true
   },
   "outputs": [
    {
     "name": "stdout",
     "output_type": "stream",
     "text": [
      "Loading checkpoint...\n",
      "210.01887958150513\n"
     ]
    },
    {
     "name": "stderr",
     "output_type": "stream",
     "text": [
      "100%|██████████| 71/71 [00:28<00:00,  2.51it/s]"
     ]
    },
    {
     "name": "stdout",
     "output_type": "stream",
     "text": [
      "Test Loss: 16330.4874\n",
      "Sample Predictions vs Actual with Circular Error:\n",
      "Average Circular Error: 91.26\n",
      "ACE result is\n",
      "103.47853445004168\n"
     ]
    },
    {
     "name": "stderr",
     "output_type": "stream",
     "text": [
      "\n"
     ]
    }
   ],
   "source": [
    "\n",
    "model = ImageRegressor(pretrained=True)\n",
    "checkpoint_path = \"checkpoint_angle_pred_images_35k_epoch_15.pth\"\n",
    "\n",
    "if os.path.isfile(checkpoint_path):\n",
    "    print(\"Loading checkpoint...\")\n",
    "    checkpoint = torch.load(checkpoint_path, map_location=DEVICE, weights_only=True)\n",
    "    model.load_state_dict(checkpoint['model_state_dict'])\n",
    "    print(checkpoint['loss'])\n",
    "    # optimizer.load_state_dict(checkpoint['optimizer_state_dict'])\n",
    "    start_epoch = checkpoint['epoch'] + 1\n",
    "    # print(f\"resuming training from epoch {start_epoch}\")\n",
    "    epoch = start_epoch\n",
    "\n",
    "    all_preds, all_labels = test_model(model, test_loader)\n",
    "    print(\"ACE result is\")\n",
    "    all_preds = np.array(all_preds) % 360\n",
    "    all_labels = np.array(all_labels) % 360\n",
    "    ACE = np.sum(abs(all_preds - all_labels)) / len(all_preds)\n",
    "    print(ACE)"
   ]
  },
  {
   "cell_type": "code",
   "execution_count": null,
   "metadata": {},
   "outputs": [],
   "source": []
  }
 ],
 "metadata": {
  "kaggle": {
   "accelerator": "gpu",
   "dataSources": [
    {
     "datasetId": 7022607,
     "sourceId": 11240975,
     "sourceType": "datasetVersion"
    }
   ],
   "dockerImageVersionId": 30919,
   "isGpuEnabled": true,
   "isInternetEnabled": true,
   "language": "python",
   "sourceType": "notebook"
  },
  "kernelspec": {
   "display_name": "Python 3",
   "language": "python",
   "name": "python3"
  },
  "language_info": {
   "codemirror_mode": {
    "name": "ipython",
    "version": 3
   },
   "file_extension": ".py",
   "mimetype": "text/x-python",
   "name": "python",
   "nbconvert_exporter": "python",
   "pygments_lexer": "ipython3",
   "version": "3.9.13"
  }
 },
 "nbformat": 4,
 "nbformat_minor": 4
}
